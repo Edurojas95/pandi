{
 "cells": [
  {
   "cell_type": "markdown",
   "id": "cd8a3593-b453-4e08-9240-99b210a925b4",
   "metadata": {
    "tags": []
   },
   "source": [
    "# Data Science Tools and Ecosystem"
   ]
  },
  {
   "cell_type": "markdown",
   "id": "c491b133-53d4-4953-94f9-d9876ee02753",
   "metadata": {},
   "source": [
    "## In this notebook, Data Science Tools and Ecosystem are summarized."
   ]
  },
  {
   "cell_type": "markdown",
   "id": "08a712fd-e26f-4e96-b5a9-6b0904eceb9f",
   "metadata": {
    "tags": []
   },
   "source": [
    "### Objetives\n",
    "+ List popular languages for Data Science\n",
    "+ Talk about some of commonly used libraries by data scientist\n",
    "+ show a few examples of evaluating arithmetic expressions in Python"
   ]
  },
  {
   "cell_type": "markdown",
   "id": "47170906-348a-4298-9e52-1dced8dd89f2",
   "metadata": {
    "tags": []
   },
   "source": [
    "### Some of the popular languages that Data Scientists use are:\n",
    "1. Python\n",
    "2. R\n",
    "3. Julia\n",
    "4. C++"
   ]
  },
  {
   "cell_type": "markdown",
   "id": "c39c365e-87a4-47dc-9dac-886f86272acb",
   "metadata": {},
   "source": [
    "### Some of the commonly used libraries used by Data Scientists include:\n",
    "1. Matplotlib\n",
    "2. Pandas\n",
    "3. Numpy\n",
    "4. Scipy"
   ]
  },
  {
   "cell_type": "markdown",
   "id": "52503b30-8486-45c3-83a4-6e1e3616866c",
   "metadata": {},
   "source": [
    "| Data science tools |\n",
    "|-------|\n",
    "|Jupyter notebooks|\n",
    "|R studio|\n",
    "|VS studio|"
   ]
  },
  {
   "cell_type": "markdown",
   "id": "0da9d8ba-deac-4ba8-b0f5-ed94bc893cdf",
   "metadata": {},
   "source": [
    "### Below are a few examples of evaluating arithmetic expressions in Python"
   ]
  },
  {
   "cell_type": "code",
   "execution_count": 1,
   "id": "735fe75c-45ee-4508-8f9f-882e7b57aac6",
   "metadata": {
    "tags": []
   },
   "outputs": [
    {
     "data": {
      "text/plain": [
       "17"
      ]
     },
     "execution_count": 1,
     "metadata": {},
     "output_type": "execute_result"
    }
   ],
   "source": [
    "# This a simple arithmetic expression to mutiply then add integers\n",
    "(3*4)+5"
   ]
  },
  {
   "cell_type": "code",
   "execution_count": 2,
   "id": "7e7f2ae1-6d77-462e-ae2d-aa881091d303",
   "metadata": {
    "tags": []
   },
   "outputs": [
    {
     "data": {
      "text/plain": [
       "3.3333333333333335"
      ]
     },
     "execution_count": 2,
     "metadata": {},
     "output_type": "execute_result"
    }
   ],
   "source": [
    "# This will convert 200 minutes to hours by diving by 60\n",
    "200/60"
   ]
  },
  {
   "cell_type": "markdown",
   "id": "2e1e7459-4219-473f-b7c7-75a7e344d3b4",
   "metadata": {},
   "source": [
    "## AUTHOR\n",
    "## EDUARDO ROJAS MATURANA"
   ]
  }
 ],
 "metadata": {
  "kernelspec": {
   "display_name": "Python",
   "language": "python",
   "name": "conda-env-python-py"
  },
  "language_info": {
   "codemirror_mode": {
    "name": "ipython",
    "version": 3
   },
   "file_extension": ".py",
   "mimetype": "text/x-python",
   "name": "python",
   "nbconvert_exporter": "python",
   "pygments_lexer": "ipython3",
   "version": "3.7.12"
  }
 },
 "nbformat": 4,
 "nbformat_minor": 5
}
